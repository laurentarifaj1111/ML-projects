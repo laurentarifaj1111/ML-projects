{
 "cells": [
  {
   "cell_type": "code",
   "execution_count": 1,
   "metadata": {},
   "outputs": [],
   "source": [
    "import pandas as pd\n",
    "import numpy as np\n",
    "import seaborn as sb\n",
    "\n",
    "from sklearn import model_selection\n",
    "\n",
    "from sklearn.feature_selection import SelectKBest\n",
    "from sklearn.feature_selection import f_regression\n",
    "\n",
    "import matplotlib.pyplot as plt\n",
    "from sklearn.preprocessing import LabelEncoder \n",
    "from sklearn.model_selection import train_test_split\n",
    "from sklearn.ensemble import RandomForestRegressor\n",
    "from sklearn.neighbors import KNeighborsRegressor\n",
    "from sklearn.linear_model import LinearRegression\n",
    "import sklearn.metrics as sm\n",
    "# from sklearn import datasets, linear_model, metrics \n",
    "# (n_neighbors=10)\n"
   ]
  },
  {
   "cell_type": "code",
   "execution_count": 2,
   "metadata": {},
   "outputs": [],
   "source": [
    "df = pd.read_csv('autos.csv', encoding = \"ISO-8859-1\")"
   ]
  },
  {
   "cell_type": "code",
   "execution_count": 3,
   "metadata": {},
   "outputs": [
    {
     "data": {
      "text/html": [
       "<div>\n",
       "<style scoped>\n",
       "    .dataframe tbody tr th:only-of-type {\n",
       "        vertical-align: middle;\n",
       "    }\n",
       "\n",
       "    .dataframe tbody tr th {\n",
       "        vertical-align: top;\n",
       "    }\n",
       "\n",
       "    .dataframe thead th {\n",
       "        text-align: right;\n",
       "    }\n",
       "</style>\n",
       "<table border=\"1\" class=\"dataframe\">\n",
       "  <thead>\n",
       "    <tr style=\"text-align: right;\">\n",
       "      <th></th>\n",
       "      <th>dateCrawled</th>\n",
       "      <th>name</th>\n",
       "      <th>seller</th>\n",
       "      <th>offerType</th>\n",
       "      <th>price</th>\n",
       "      <th>abtest</th>\n",
       "      <th>vehicleType</th>\n",
       "      <th>yearOfRegistration</th>\n",
       "      <th>gearbox</th>\n",
       "      <th>powerPS</th>\n",
       "      <th>model</th>\n",
       "      <th>kilometer</th>\n",
       "      <th>monthOfRegistration</th>\n",
       "      <th>fuelType</th>\n",
       "      <th>brand</th>\n",
       "      <th>notRepairedDamage</th>\n",
       "      <th>dateCreated</th>\n",
       "      <th>nrOfPictures</th>\n",
       "      <th>postalCode</th>\n",
       "      <th>lastSeen</th>\n",
       "    </tr>\n",
       "  </thead>\n",
       "  <tbody>\n",
       "    <tr>\n",
       "      <th>0</th>\n",
       "      <td>2016-03-24 11:52:17</td>\n",
       "      <td>Golf_3_1.6</td>\n",
       "      <td>privat</td>\n",
       "      <td>Offer</td>\n",
       "      <td>480</td>\n",
       "      <td>test</td>\n",
       "      <td>NaN</td>\n",
       "      <td>1993</td>\n",
       "      <td>manuell</td>\n",
       "      <td>0</td>\n",
       "      <td>golf</td>\n",
       "      <td>150000</td>\n",
       "      <td>0</td>\n",
       "      <td>benzin</td>\n",
       "      <td>volkswagen</td>\n",
       "      <td>NaN</td>\n",
       "      <td>2016-03-24 00:00:00</td>\n",
       "      <td>0</td>\n",
       "      <td>70435</td>\n",
       "      <td>2016-04-07 03:16:57</td>\n",
       "    </tr>\n",
       "    <tr>\n",
       "      <th>1</th>\n",
       "      <td>2016-03-24 10:58:45</td>\n",
       "      <td>A5_Sportback_2.7_Tdi</td>\n",
       "      <td>privat</td>\n",
       "      <td>Offer</td>\n",
       "      <td>18300</td>\n",
       "      <td>test</td>\n",
       "      <td>coupe</td>\n",
       "      <td>2011</td>\n",
       "      <td>manuell</td>\n",
       "      <td>190</td>\n",
       "      <td>NaN</td>\n",
       "      <td>125000</td>\n",
       "      <td>5</td>\n",
       "      <td>diesel</td>\n",
       "      <td>audi</td>\n",
       "      <td>ja</td>\n",
       "      <td>2016-03-24 00:00:00</td>\n",
       "      <td>0</td>\n",
       "      <td>66954</td>\n",
       "      <td>2016-04-07 01:46:50</td>\n",
       "    </tr>\n",
       "    <tr>\n",
       "      <th>2</th>\n",
       "      <td>2016-03-14 12:52:21</td>\n",
       "      <td>Jeep_Grand_Cherokee_\"Overland\"</td>\n",
       "      <td>privat</td>\n",
       "      <td>Offer</td>\n",
       "      <td>9800</td>\n",
       "      <td>test</td>\n",
       "      <td>suv</td>\n",
       "      <td>2004</td>\n",
       "      <td>automatik</td>\n",
       "      <td>163</td>\n",
       "      <td>grand</td>\n",
       "      <td>125000</td>\n",
       "      <td>8</td>\n",
       "      <td>diesel</td>\n",
       "      <td>jeep</td>\n",
       "      <td>NaN</td>\n",
       "      <td>2016-03-14 00:00:00</td>\n",
       "      <td>0</td>\n",
       "      <td>90480</td>\n",
       "      <td>2016-04-05 12:47:46</td>\n",
       "    </tr>\n",
       "    <tr>\n",
       "      <th>3</th>\n",
       "      <td>2016-03-17 16:54:04</td>\n",
       "      <td>GOLF_4_1_4__3Tï¿½RER</td>\n",
       "      <td>privat</td>\n",
       "      <td>Offer</td>\n",
       "      <td>1500</td>\n",
       "      <td>test</td>\n",
       "      <td>kleinwagen</td>\n",
       "      <td>2001</td>\n",
       "      <td>manuell</td>\n",
       "      <td>75</td>\n",
       "      <td>golf</td>\n",
       "      <td>150000</td>\n",
       "      <td>6</td>\n",
       "      <td>benzin</td>\n",
       "      <td>volkswagen</td>\n",
       "      <td>nein</td>\n",
       "      <td>2016-03-17 00:00:00</td>\n",
       "      <td>0</td>\n",
       "      <td>91074</td>\n",
       "      <td>2016-03-17 17:40:17</td>\n",
       "    </tr>\n",
       "    <tr>\n",
       "      <th>4</th>\n",
       "      <td>2016-03-31 17:25:20</td>\n",
       "      <td>Skoda_Fabia_1.4_TDI_PD_Classic</td>\n",
       "      <td>privat</td>\n",
       "      <td>Offer</td>\n",
       "      <td>3600</td>\n",
       "      <td>test</td>\n",
       "      <td>kleinwagen</td>\n",
       "      <td>2008</td>\n",
       "      <td>manuell</td>\n",
       "      <td>69</td>\n",
       "      <td>fabia</td>\n",
       "      <td>90000</td>\n",
       "      <td>7</td>\n",
       "      <td>diesel</td>\n",
       "      <td>skoda</td>\n",
       "      <td>nein</td>\n",
       "      <td>2016-03-31 00:00:00</td>\n",
       "      <td>0</td>\n",
       "      <td>60437</td>\n",
       "      <td>2016-04-06 10:17:21</td>\n",
       "    </tr>\n",
       "  </tbody>\n",
       "</table>\n",
       "</div>"
      ],
      "text/plain": [
       "           dateCrawled                            name  seller offerType  \\\n",
       "0  2016-03-24 11:52:17                      Golf_3_1.6  privat     Offer   \n",
       "1  2016-03-24 10:58:45            A5_Sportback_2.7_Tdi  privat     Offer   \n",
       "2  2016-03-14 12:52:21  Jeep_Grand_Cherokee_\"Overland\"  privat     Offer   \n",
       "3  2016-03-17 16:54:04            GOLF_4_1_4__3Tï¿½RER  privat     Offer   \n",
       "4  2016-03-31 17:25:20  Skoda_Fabia_1.4_TDI_PD_Classic  privat     Offer   \n",
       "\n",
       "   price abtest vehicleType  yearOfRegistration    gearbox  powerPS  model  \\\n",
       "0    480   test         NaN                1993    manuell        0   golf   \n",
       "1  18300   test       coupe                2011    manuell      190    NaN   \n",
       "2   9800   test         suv                2004  automatik      163  grand   \n",
       "3   1500   test  kleinwagen                2001    manuell       75   golf   \n",
       "4   3600   test  kleinwagen                2008    manuell       69  fabia   \n",
       "\n",
       "   kilometer  monthOfRegistration fuelType       brand notRepairedDamage  \\\n",
       "0     150000                    0   benzin  volkswagen               NaN   \n",
       "1     125000                    5   diesel        audi                ja   \n",
       "2     125000                    8   diesel        jeep               NaN   \n",
       "3     150000                    6   benzin  volkswagen              nein   \n",
       "4      90000                    7   diesel       skoda              nein   \n",
       "\n",
       "           dateCreated  nrOfPictures  postalCode             lastSeen  \n",
       "0  2016-03-24 00:00:00             0       70435  2016-04-07 03:16:57  \n",
       "1  2016-03-24 00:00:00             0       66954  2016-04-07 01:46:50  \n",
       "2  2016-03-14 00:00:00             0       90480  2016-04-05 12:47:46  \n",
       "3  2016-03-17 00:00:00             0       91074  2016-03-17 17:40:17  \n",
       "4  2016-03-31 00:00:00             0       60437  2016-04-06 10:17:21  "
      ]
     },
     "execution_count": 3,
     "metadata": {},
     "output_type": "execute_result"
    }
   ],
   "source": [
    "df.head()"
   ]
  },
  {
   "cell_type": "code",
   "execution_count": 4,
   "metadata": {},
   "outputs": [],
   "source": [
    "carsCopyDf = df.copy()"
   ]
  },
  {
   "cell_type": "code",
   "execution_count": 5,
   "metadata": {
    "tags": []
   },
   "outputs": [
    {
     "name": "stdout",
     "output_type": "stream",
     "text": [
      "<class 'pandas.core.frame.DataFrame'>\n",
      "RangeIndex: 371528 entries, 0 to 371527\n",
      "Data columns (total 20 columns):\n",
      " #   Column               Non-Null Count   Dtype \n",
      "---  ------               --------------   ----- \n",
      " 0   dateCrawled          371528 non-null  object\n",
      " 1   name                 371528 non-null  object\n",
      " 2   seller               371528 non-null  object\n",
      " 3   offerType            371528 non-null  object\n",
      " 4   price                371528 non-null  int64 \n",
      " 5   abtest               371528 non-null  object\n",
      " 6   vehicleType          333659 non-null  object\n",
      " 7   yearOfRegistration   371528 non-null  int64 \n",
      " 8   gearbox              351319 non-null  object\n",
      " 9   powerPS              371528 non-null  int64 \n",
      " 10  model                351044 non-null  object\n",
      " 11  kilometer            371528 non-null  int64 \n",
      " 12  monthOfRegistration  371528 non-null  int64 \n",
      " 13  fuelType             338142 non-null  object\n",
      " 14  brand                371528 non-null  object\n",
      " 15  notRepairedDamage    299468 non-null  object\n",
      " 16  dateCreated          371528 non-null  object\n",
      " 17  nrOfPictures         371528 non-null  int64 \n",
      " 18  postalCode           371528 non-null  int64 \n",
      " 19  lastSeen             371528 non-null  object\n",
      "dtypes: int64(7), object(13)\n",
      "memory usage: 56.7+ MB\n"
     ]
    }
   ],
   "source": [
    "carsCopyDf.info()"
   ]
  },
  {
   "cell_type": "markdown",
   "metadata": {},
   "source": [
    "# Data preproccesing and visualisation "
   ]
  },
  {
   "cell_type": "code",
   "execution_count": 6,
   "metadata": {},
   "outputs": [],
   "source": [
    "columnsToDrop=['name','dateCrawled','dateCreated','postalCode','lastSeen','nrOfPictures']"
   ]
  },
  {
   "cell_type": "code",
   "execution_count": 7,
   "metadata": {},
   "outputs": [],
   "source": [
    "carsCopyDf = carsCopyDf.drop(columns= columnsToDrop)"
   ]
  },
  {
   "cell_type": "code",
   "execution_count": 8,
   "metadata": {
    "tags": []
   },
   "outputs": [
    {
     "name": "stdout",
     "output_type": "stream",
     "text": [
      "<class 'pandas.core.frame.DataFrame'>\n",
      "RangeIndex: 371528 entries, 0 to 371527\n",
      "Data columns (total 14 columns):\n",
      "seller                 371528 non-null object\n",
      "offerType              371528 non-null object\n",
      "price                  371528 non-null int64\n",
      "abtest                 371528 non-null object\n",
      "vehicleType            333659 non-null object\n",
      "yearOfRegistration     371528 non-null int64\n",
      "gearbox                351319 non-null object\n",
      "powerPS                371528 non-null int64\n",
      "model                  351044 non-null object\n",
      "kilometer              371528 non-null int64\n",
      "monthOfRegistration    371528 non-null int64\n",
      "fuelType               338142 non-null object\n",
      "brand                  371528 non-null object\n",
      "notRepairedDamage      299468 non-null object\n",
      "dtypes: int64(5), object(9)\n",
      "memory usage: 39.7+ MB\n"
     ]
    }
   ],
   "source": [
    "carsCopyDf.info()"
   ]
  },
  {
   "cell_type": "code",
   "execution_count": 9,
   "metadata": {},
   "outputs": [],
   "source": [
    "sb.set(rc={'figure.figsize':(11.7,8.27)})"
   ]
  },
  {
   "cell_type": "code",
   "execution_count": 10,
   "metadata": {},
   "outputs": [],
   "source": [
    "carsCopyDf = carsCopyDf.drop_duplicates(keep='first', inplace = False)"
   ]
  },
  {
   "cell_type": "code",
   "execution_count": 11,
   "metadata": {
    "scrolled": false
   },
   "outputs": [
    {
     "data": {
      "text/plain": [
       "seller                     0\n",
       "offerType                  0\n",
       "price                      0\n",
       "abtest                     0\n",
       "vehicleType            36439\n",
       "yearOfRegistration         0\n",
       "gearbox                18562\n",
       "powerPS                    0\n",
       "model                  19708\n",
       "kilometer                  0\n",
       "monthOfRegistration        0\n",
       "fuelType               32222\n",
       "brand                      0\n",
       "notRepairedDamage      68964\n",
       "dtype: int64"
      ]
     },
     "execution_count": 11,
     "metadata": {},
     "output_type": "execute_result"
    }
   ],
   "source": [
    "carsCopyDf.isnull().sum()\n"
   ]
  },
  {
   "cell_type": "code",
   "execution_count": 12,
   "metadata": {},
   "outputs": [
    {
     "data": {
      "text/plain": [
       "1985.5"
      ]
     },
     "execution_count": 12,
     "metadata": {},
     "output_type": "execute_result"
    }
   ],
   "source": [
    "Q1 = np.percentile(carsCopyDf[carsCopyDf.yearOfRegistration < 2020].yearOfRegistration, 25, interpolation = 'midpoint')  \n",
    "Q3 = np.percentile(carsCopyDf[carsCopyDf.yearOfRegistration < 2020].yearOfRegistration, 75, interpolation = 'midpoint')  \n",
    "\n",
    "IQR = Q3 - Q1  \n",
    "low_lim = Q1 - 1.5 * IQR \n",
    "up_lim = Q3 + 1.5 * IQR\n",
    "low_lim"
   ]
  },
  {
   "cell_type": "code",
   "execution_count": 13,
   "metadata": {},
   "outputs": [
    {
     "data": {
      "text/plain": [
       "16333.5"
      ]
     },
     "execution_count": 13,
     "metadata": {},
     "output_type": "execute_result"
    }
   ],
   "source": [
    "PQ1 = np.percentile(carsCopyDf.price, 25, interpolation = 'midpoint')  \n",
    "PQ3 = np.percentile(carsCopyDf.price, 75, interpolation = 'midpoint')  \n",
    "\n",
    "PIQR = PQ3 - PQ1  \n",
    "Plow_lim = PQ1 - 1.5 * PIQR \n",
    "Pup_lim = PQ3 + 1.5 * PIQR\n",
    "Plow_lim\n",
    "Pup_lim"
   ]
  },
  {
   "cell_type": "code",
   "execution_count": 14,
   "metadata": {},
   "outputs": [],
   "source": [
    "carsCopyDf = carsCopyDf[carsCopyDf.price < 17475]"
   ]
  },
  {
   "cell_type": "code",
   "execution_count": 15,
   "metadata": {},
   "outputs": [],
   "source": [
    "carsCopyDf = carsCopyDf[carsCopyDf.yearOfRegistration > 1985 ] "
   ]
  },
  {
   "cell_type": "code",
   "execution_count": 16,
   "metadata": {},
   "outputs": [],
   "source": [
    "carsCopyDf = carsCopyDf[carsCopyDf.monthOfRegistration < 2020 ] "
   ]
  },
  {
   "cell_type": "code",
   "execution_count": 17,
   "metadata": {},
   "outputs": [],
   "source": [
    "carsCopyDf.monthOfRegistration = carsCopyDf.monthOfRegistration / 12"
   ]
  },
  {
   "cell_type": "code",
   "execution_count": 18,
   "metadata": {},
   "outputs": [],
   "source": [
    "age = 2020 - carsCopyDf.yearOfRegistration + carsCopyDf.monthOfRegistration/12"
   ]
  },
  {
   "cell_type": "code",
   "execution_count": 19,
   "metadata": {},
   "outputs": [],
   "source": [
    "carsCopyDf['age'] = age"
   ]
  },
  {
   "cell_type": "code",
   "execution_count": 20,
   "metadata": {},
   "outputs": [],
   "source": [
    "carsCopyDf = carsCopyDf.drop(columns=['yearOfRegistration', 'monthOfRegistration'])"
   ]
  },
  {
   "cell_type": "code",
   "execution_count": 21,
   "metadata": {},
   "outputs": [],
   "source": [
    "carsCopyDf = carsCopyDf[carsCopyDf.powerPS > 50]"
   ]
  },
  {
   "cell_type": "code",
   "execution_count": 22,
   "metadata": {},
   "outputs": [],
   "source": [
    "carsCopyDf = carsCopyDf[carsCopyDf.powerPS < 1000]"
   ]
  },
  {
   "cell_type": "code",
   "execution_count": 23,
   "metadata": {
    "tags": []
   },
   "outputs": [
    {
     "name": "stdout",
     "output_type": "stream",
     "text": [
      "<class 'pandas.core.frame.DataFrame'>\n",
      "Int64Index: 278619 entries, 2 to 371526\n",
      "Data columns (total 13 columns):\n",
      "seller               278619 non-null object\n",
      "offerType            278619 non-null object\n",
      "price                278619 non-null int64\n",
      "abtest               278619 non-null object\n",
      "vehicleType          257756 non-null object\n",
      "gearbox              273021 non-null object\n",
      "powerPS              278619 non-null int64\n",
      "model                267105 non-null object\n",
      "kilometer            278619 non-null int64\n",
      "fuelType             259402 non-null object\n",
      "brand                278619 non-null object\n",
      "notRepairedDamage    234256 non-null object\n",
      "age                  278619 non-null float64\n",
      "dtypes: float64(1), int64(3), object(9)\n",
      "memory usage: 29.8+ MB\n"
     ]
    }
   ],
   "source": [
    "carsCopyDf.info()"
   ]
  },
  {
   "cell_type": "code",
   "execution_count": 24,
   "metadata": {},
   "outputs": [
    {
     "data": {
      "text/plain": [
       "seller                   0\n",
       "offerType                0\n",
       "price                    0\n",
       "abtest                   0\n",
       "vehicleType          20863\n",
       "gearbox               5598\n",
       "powerPS                  0\n",
       "model                11514\n",
       "kilometer                0\n",
       "fuelType             19217\n",
       "brand                    0\n",
       "notRepairedDamage    44363\n",
       "age                      0\n",
       "dtype: int64"
      ]
     },
     "execution_count": 24,
     "metadata": {},
     "output_type": "execute_result"
    }
   ],
   "source": [
    "carsCopyDf.isnull().sum()\n"
   ]
  },
  {
   "cell_type": "code",
   "execution_count": 25,
   "metadata": {},
   "outputs": [
    {
     "data": {
      "text/plain": [
       "4450.271618231348"
      ]
     },
     "execution_count": 25,
     "metadata": {},
     "output_type": "execute_result"
    }
   ],
   "source": [
    "carsCopyDf.price.mean()"
   ]
  },
  {
   "cell_type": "code",
   "execution_count": 6,
   "metadata": {},
   "outputs": [],
   "source": [
    "carsCopyDf = carsCopyDf.dropna()"
   ]
  },
  {
   "cell_type": "code",
   "execution_count": 27,
   "metadata": {},
   "outputs": [],
   "source": [
    "carsCopyDf = carsCopyDf[carsCopyDf['kilometer'] > 35000]\n"
   ]
  },
  {
   "cell_type": "code",
   "execution_count": 7,
   "metadata": {},
   "outputs": [],
   "source": [
    "carsCopyDf = carsCopyDf.apply(LabelEncoder().fit_transform)"
   ]
  },
  {
   "cell_type": "markdown",
   "metadata": {},
   "source": [
    "# Algorithms"
   ]
  },
  {
   "cell_type": "code",
   "execution_count": 29,
   "metadata": {},
   "outputs": [],
   "source": [
    "# array = carsCopyDf.values\n",
    "# X=carsCopyDf.iloc[:,:-1]\n",
    "# Y=carsCopyDf.iloc[:,-1]\n",
    "\n",
    "# result = []\n",
    "# # evaluate each model in turn\n",
    "# reg = LinearRegression().fit(X, Y)\n",
    "# result.append(('LinearRegression', reg.score(X, Y)))\n",
    "\n",
    "# reg = KNeighborsRegressor(n_neighbors=10).fit(X, Y)\n",
    "# result.append(('KNN-n=10', reg.score(X, Y)))\n",
    "\n",
    "# reg = KNeighborsRegressor(n_neighbors=100).fit(X, Y)\n",
    "# result.append(('KNN-n=100', reg.score(X, Y)))\n",
    "\n",
    "# reg = RandomForestRegressor(n_estimators=10, criterion='mse').fit(X, Y)\n",
    "# result.append(('RandomRegressor-n=10-mse', reg.score(X, Y)))\n",
    "\n",
    "# reg = RandomForestRegressor(n_estimators=100, criterion='mse').fit(X, Y)\n",
    "# result.append(('RandomRegressor-n=100-mse', reg.score(X, Y)))\n",
    "\n",
    "# reg = RandomForestRegressor(n_estimators=10, criterion='mae').fit(X, Y)\n",
    "# result.append(('RandomRegressor-n=10-mae', reg.score(X, Y)))\n",
    "\n",
    "# reg = RandomForestRegressor(n_estimators=100, criterion='mae').fit(X, Y)\n",
    "# result.append(('RandomRegressor-n=100-mae', reg.score(X, Y)))\n",
    "\n",
    "\n",
    "# # result\n",
    "    "
   ]
  },
  {
   "cell_type": "code",
   "execution_count": 8,
   "metadata": {},
   "outputs": [
    {
     "name": "stderr",
     "output_type": "stream",
     "text": [
      "/home/laurent/anaconda3/lib/python3.7/site-packages/sklearn/feature_selection/_univariate_selection.py:299: RuntimeWarning: invalid value encountered in true_divide\n",
      "  corr /= X_norms\n",
      "/home/laurent/anaconda3/lib/python3.7/site-packages/scipy/stats/_distn_infrastructure.py:903: RuntimeWarning: invalid value encountered in greater\n",
      "  return (a < x) & (x < b)\n",
      "/home/laurent/anaconda3/lib/python3.7/site-packages/scipy/stats/_distn_infrastructure.py:903: RuntimeWarning: invalid value encountered in less\n",
      "  return (a < x) & (x < b)\n",
      "/home/laurent/anaconda3/lib/python3.7/site-packages/scipy/stats/_distn_infrastructure.py:1912: RuntimeWarning: invalid value encountered in less_equal\n",
      "  cond2 = cond0 & (x <= _a)\n"
     ]
    }
   ],
   "source": [
    "array = carsCopyDf.values\n",
    "X1=carsCopyDf.iloc[:,:-1]\n",
    "Y=carsCopyDf.iloc[:,-1]\n",
    "\n",
    "fs = SelectKBest(score_func=f_regression, k=10)\n",
    "# apply feature selection\n",
    "X = fs.fit_transform(X1, Y)\n",
    "\n",
    "# result = []\n",
    "# # evaluate each model in turn\n",
    "# reg = LinearRegression().fit(X, Y)\n",
    "# result.append(('LinearRegression', reg.score(X, Y)))\n",
    "\n",
    "# reg = KNeighborsRegressor(n_neighbors=10).fit(X, Y)\n",
    "# result.append(('KNN-n=10', reg.score(X, Y)))\n",
    "\n",
    "# reg = KNeighborsRegressor(n_neighbors=100).fit(X, Y)\n",
    "# result.append(('KNN-n=100', reg.score(X, Y)))\n",
    "\n",
    "# reg = RandomForestRegressor(n_estimators=10, criterion='mse').fit(X, Y)\n",
    "# result.append(('RandomRegressor-n=10-mse', reg.score(X, Y)))\n",
    "\n",
    "# reg = RandomForestRegressor(n_estimators=100, criterion='mse').fit(X, Y)\n",
    "# result.append(('RandomRegressor-n=100-mse', reg.score(X, Y)))\n",
    "\n",
    "# reg = RandomForestRegressor(n_estimators=10, criterion='mae').fit(X, Y)\n",
    "# result.append(('RandomRegressor-n=10-mae', reg.score(X, Y)))\n",
    "\n",
    "# reg = RandomForestRegressor(n_estimators=100, criterion='mae').fit(X, Y)\n",
    "# result.append(('RandomRegressor-n=100-mae', reg.score(X, Y)))\n",
    "\n",
    "\n",
    "# for name, score in results:\n",
    "#     msg = \"%s: %f\" % (name, score)\n",
    "#     print(msg)"
   ]
  },
  {
   "cell_type": "code",
   "execution_count": 9,
   "metadata": {},
   "outputs": [
    {
     "data": {
      "text/plain": [
       "[('LinearRegression', 0.3282654374827726)]"
      ]
     },
     "execution_count": 9,
     "metadata": {},
     "output_type": "execute_result"
    }
   ],
   "source": [
    "result = []\n",
    "# evaluate each model in turn\n",
    "reg = LinearRegression().fit(X, Y)\n",
    "result.append(('LinearRegression', reg.score(X, Y)))\n",
    "result"
   ]
  },
  {
   "cell_type": "code",
   "execution_count": 10,
   "metadata": {},
   "outputs": [
    {
     "data": {
      "text/plain": [
       "[('LinearRegression', 0.3282654374827726), ('KNN-n=10', 0.41631869303912183)]"
      ]
     },
     "execution_count": 10,
     "metadata": {},
     "output_type": "execute_result"
    }
   ],
   "source": [
    "reg = KNeighborsRegressor(n_neighbors=10).fit(X, Y)\n",
    "result.append(('KNN-n=10', reg.score(X, Y)))\n",
    "result"
   ]
  },
  {
   "cell_type": "code",
   "execution_count": 11,
   "metadata": {},
   "outputs": [
    {
     "data": {
      "text/plain": [
       "[('LinearRegression', 0.3282654374827726),\n",
       " ('KNN-n=10', 0.41631869303912183),\n",
       " ('KNN-n=100', 0.34996286380417996)]"
      ]
     },
     "execution_count": 11,
     "metadata": {},
     "output_type": "execute_result"
    }
   ],
   "source": [
    "reg = KNeighborsRegressor(n_neighbors=100).fit(X, Y)\n",
    "result.append(('KNN-n=100', reg.score(X, Y)))\n",
    "result"
   ]
  },
  {
   "cell_type": "code",
   "execution_count": 12,
   "metadata": {},
   "outputs": [
    {
     "data": {
      "text/plain": [
       "[('LinearRegression', 0.3282654374827726),\n",
       " ('KNN-n=10', 0.41631869303912183),\n",
       " ('KNN-n=100', 0.34996286380417996),\n",
       " ('RandomRegressor-n=10-mse', 0.8809303892166627)]"
      ]
     },
     "execution_count": 12,
     "metadata": {},
     "output_type": "execute_result"
    }
   ],
   "source": [
    "reg = RandomForestRegressor(n_estimators=10, criterion='mse').fit(X, Y)\n",
    "result.append(('RandomRegressor-n=10-mse', reg.score(X, Y)))\n",
    "result"
   ]
  },
  {
   "cell_type": "code",
   "execution_count": null,
   "metadata": {},
   "outputs": [],
   "source": [
    "reg = RandomForestRegressor(n_estimators=100, criterion='mse').fit(X, Y)\n",
    "result.append(('RandomRegressor-n=100-mse', reg.score(X, Y)))\n",
    "result"
   ]
  },
  {
   "cell_type": "code",
   "execution_count": null,
   "metadata": {},
   "outputs": [],
   "source": [
    "reg = RandomForestRegressor(n_estimators=10, criterion='mae').fit(X, Y)\n",
    "result.append(('RandomRegressor-n=10-mae', reg.score(X, Y)))\n",
    "result"
   ]
  },
  {
   "cell_type": "code",
   "execution_count": null,
   "metadata": {},
   "outputs": [],
   "source": [
    "reg = RandomForestRegressor(n_estimators=100, criterion='mae').fit(X, Y)\n",
    "result.append(('RandomRegressor-n=100-mae', reg.score(X, Y)))\n",
    "result"
   ]
  }
 ],
 "metadata": {
  "kernelspec": {
   "display_name": "Python 3",
   "language": "python",
   "name": "python3"
  },
  "language_info": {
   "codemirror_mode": {
    "name": "ipython",
    "version": 3
   },
   "file_extension": ".py",
   "mimetype": "text/x-python",
   "name": "python",
   "nbconvert_exporter": "python",
   "pygments_lexer": "ipython3",
   "version": "3.7.6"
  }
 },
 "nbformat": 4,
 "nbformat_minor": 2
}
